{
 "cells": [
  {
   "cell_type": "code",
   "execution_count": 4,
   "metadata": {},
   "outputs": [],
   "source": [
    "import pandas as pd\n",
    "import os\n",
    "\n",
    "import numpy as np"
   ]
  },
  {
   "cell_type": "code",
   "execution_count": 3,
   "metadata": {},
   "outputs": [],
   "source": [
    "### dog dataset\n",
    "\n",
    "df=pd.read_csv('labels_alph.csv', sep=',', dtype = str,header=None)\n",
    "\n",
    "\n",
    "np.save(\"numpy/labels_numpy.npy\",df.to_numpy())  \n",
    "\n",
    "## pandas workaround to save as np.array"
   ]
  },
  {
   "cell_type": "code",
   "execution_count": 6,
   "metadata": {},
   "outputs": [
    {
     "name": "stdout",
     "output_type": "stream",
     "text": [
      "['00ca18751837cd6a22813f8e221f7819' 'affenpinscher']\n"
     ]
    }
   ],
   "source": [
    "load = np.array(np.load(\"labels_numpy.npy\"))\n",
    "\n",
    "print(load[0])\n",
    "      "
   ]
  },
  {
   "cell_type": "code",
   "execution_count": 9,
   "metadata": {
    "scrolled": false
   },
   "outputs": [
    {
     "name": "stdout",
     "output_type": "stream",
     "text": [
      "['01268f0007876a692907bda89468184c' 'affenpinscher' '1']\n",
      "\n",
      "['85555f0d533f33bf8d38e1490cabb05b' 'bedlington_terrier' '11']\n"
     ]
    }
   ],
   "source": [
    "def create_vectors(arr):\n",
    "    \n",
    "    count = 1 \n",
    "    np.append(arr[0],1)\n",
    "    \n",
    "    new_arr = []\n",
    "    \n",
    "    for a in range(1, len(arr)):\n",
    "        \n",
    "        if arr[a][1] != arr[a-1][1]:  ## different vectors to each breed \n",
    "            \n",
    "            count+= 1\n",
    "#             print(count)\n",
    "            \n",
    "        doo = np.append(arr[a], int(count))  ## append a vector to each row (dog) wrt the breed \n",
    "        \n",
    "        doo = doo.tolist()\n",
    "        \n",
    "        new_arr.append(doo)\n",
    "        \n",
    "    np.save(\"numpy/labels_vectored.npy\", new_arr)    \n",
    "    return np.asarray(new_arr)\n",
    "\n",
    "f = create_vectors(load)\n",
    "\n",
    "print(f[0])\n",
    "\n",
    "print(\"\")\n",
    "\n",
    "print(f[1000])\n",
    "\n"
   ]
  }
 ],
 "metadata": {
  "kernelspec": {
   "display_name": "Python 3",
   "language": "python",
   "name": "python3"
  },
  "language_info": {
   "codemirror_mode": {
    "name": "ipython",
    "version": 3
   },
   "file_extension": ".py",
   "mimetype": "text/x-python",
   "name": "python",
   "nbconvert_exporter": "python",
   "pygments_lexer": "ipython3",
   "version": "3.7.3"
  }
 },
 "nbformat": 4,
 "nbformat_minor": 2
}
