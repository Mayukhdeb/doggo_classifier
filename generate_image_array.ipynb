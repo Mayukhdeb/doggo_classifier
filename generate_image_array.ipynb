{
 "cells": [
  {
   "cell_type": "code",
   "execution_count": 4,
   "metadata": {},
   "outputs": [],
   "source": [
    "import numpy as np\n",
    "from PIL import Image"
   ]
  },
  {
   "cell_type": "code",
   "execution_count": 27,
   "metadata": {},
   "outputs": [
    {
     "name": "stdout",
     "output_type": "stream",
     "text": [
      "(333, 500, 3)\n",
      "(500, 333, 3)\n",
      "(140, 200, 3)\n",
      "(500, 375, 3)\n",
      "(294, 500, 3)\n",
      "(399, 500, 3)\n",
      "(200, 222, 3)\n"
     ]
    }
   ],
   "source": [
    "\n",
    "\n",
    "def gen_img_array(vectored_arr, folder_name):\n",
    "    \n",
    "    foo = np.array(np.load(vectored_arr))\n",
    "\n",
    "    for i in range(0, len(foo), 1500):\n",
    "        \n",
    "        path_2 = folder_name + \"/\" + foo[i][0] +\".jpg\"\n",
    "    \n",
    "        im = Image.open(path_2)\n",
    "        \n",
    "        arr = np.array(im)\n",
    "        \n",
    "        print(arr.shape)  ## comes as (x, y, color channels) -- 3 = RGB\n",
    "\n",
    "\n",
    "\n",
    "        \n",
    "        \n",
    "    \n",
    "    \n",
    "gen_img_array(\"numpy/labels_vectored.npy\", \"train\") \n",
    "    "
   ]
  },
  {
   "cell_type": "code",
   "execution_count": 34,
   "metadata": {
    "scrolled": true
   },
   "outputs": [
    {
     "name": "stdout",
     "output_type": "stream",
     "text": [
      "[386, 443]\n"
     ]
    }
   ],
   "source": [
    "##  need to find  average shape , the shapes are different for each image\n",
    "\n",
    "def find_average_shape(vectored_arr, folder_name):\n",
    "    \n",
    "    foo = np.array(np.load(vectored_arr))\n",
    "    \n",
    "    shape_arr = [0,0]\n",
    "\n",
    "    for i in range(len(foo)):\n",
    "        \n",
    "        path_2 = folder_name + \"/\" + foo[i][0] +\".jpg\"\n",
    "    \n",
    "        im = Image.open(path_2)\n",
    "        \n",
    "        arr = np.array(im)\n",
    "        \n",
    "        mario = arr.shape\n",
    "        \n",
    "        shape_arr[0] += mario[0]\n",
    "        \n",
    "        shape_arr[1] += mario[1]\n",
    "\n",
    "        \n",
    "    \n",
    "    shape_arr[0] = int(shape_arr[0]/len(foo))\n",
    "    \n",
    "    shape_arr[1] = int(shape_arr[1]/len(foo))\n",
    "    print(shape_arr)\n",
    "\n",
    "\n",
    "        \n",
    "find_average_shape(\"numpy/labels_vectored.npy\", \"train\")     "
   ]
  },
  {
   "cell_type": "code",
   "execution_count": 5,
   "metadata": {
    "scrolled": true
   },
   "outputs": [],
   "source": [
    "## 390 x 440 is a good shape then, but will use one fourth of that because my RAM runs out instead\n",
    "\n",
    "def standardise_data_checkpoints(vectored_arr, folder_name, width, height):\n",
    "    \n",
    "    \n",
    "    \n",
    "    foo = np.array(np.load(vectored_arr))\n",
    "    \n",
    "    print(\"running\")\n",
    "    \n",
    "    def checkpoint(start, end):\n",
    "        \n",
    "        standardised_arr = []\n",
    "        for i in range(int(start), int(end)):    \n",
    "\n",
    "            path_2 = folder_name + \"/\" + foo[i][0] +\".jpg\"\n",
    "\n",
    "            doofus = Image.open(path_2)\n",
    "\n",
    "            doofus = doofus.resize((width, height), Image.ANTIALIAS)  ## reshape to std size \n",
    "\n",
    "            im_array = np.array(doofus)\n",
    "\n",
    "            stack_element = [  im_array, foo[i][0], foo[i][2]  ]\n",
    "\n",
    "            standardised_arr.append(stack_element)\n",
    "            \n",
    "        fmt_name = \"numpy/\" +\"check_\"+ str(width) + \"_\" + str(height) + \"_\" + str(int(end)) +\".npy\"\n",
    "\n",
    "        print(\"saving\", fmt_name)\n",
    "\n",
    "        luigi = np.asarray(standardised_arr)\n",
    "\n",
    "        np.save(fmt_name, luigi)\n",
    "\n",
    "        print(\"saved\")\n",
    "            \n",
    "    checkpoint(0, 2*(len(foo)/3))            # first two thirds \n",
    "    \n",
    "    \n",
    "    checkpoint(2*(len(foo)/3)+1, len(foo))   ## the last one third of the data \n",
    "    \n",
    "    \n",
    "    print(\"complete ---\")\n",
    "    \n",
    "   "
   ]
  },
  {
   "cell_type": "code",
   "execution_count": 6,
   "metadata": {},
   "outputs": [
    {
     "name": "stdout",
     "output_type": "stream",
     "text": [
      "running\n",
      "saving numpy/check_195_220_6814.npy\n",
      "saved\n",
      "saving numpy/check_195_220_10221.npy\n",
      "saved\n",
      "complete ---\n"
     ]
    }
   ],
   "source": [
    "standardise_data_checkpoints(\"numpy/labels_vectored.npy\", \"train\", 195, 220)   "
   ]
  },
  {
   "cell_type": "code",
   "execution_count": 7,
   "metadata": {},
   "outputs": [],
   "source": [
    "d = np.array(np.load(\"numpy/check_195_220_6814.npy\"))"
   ]
  },
  {
   "cell_type": "code",
   "execution_count": 8,
   "metadata": {},
   "outputs": [
    {
     "name": "stdout",
     "output_type": "stream",
     "text": [
      "[array([[[ 44,  43,  39],\n",
      "        [ 37,  36,  32],\n",
      "        [ 33,  32,  28],\n",
      "        ...,\n",
      "        [107, 100,  92],\n",
      "        [100,  91,  80],\n",
      "        [ 86,  71,  62]],\n",
      "\n",
      "       [[ 49,  48,  44],\n",
      "        [ 48,  47,  43],\n",
      "        [ 54,  53,  49],\n",
      "        ...,\n",
      "        [103,  95,  87],\n",
      "        [108,  97,  87],\n",
      "        [100,  85,  76]],\n",
      "\n",
      "       [[ 65,  64,  60],\n",
      "        [ 65,  64,  60],\n",
      "        [ 73,  72,  68],\n",
      "        ...,\n",
      "        [112, 102,  95],\n",
      "        [116, 102,  94],\n",
      "        [117,  98,  91]],\n",
      "\n",
      "       ...,\n",
      "\n",
      "       [[139, 121, 133],\n",
      "        [131, 113, 125],\n",
      "        [149, 131, 143],\n",
      "        ...,\n",
      "        [ 51,  47,  44],\n",
      "        [ 58,  51,  50],\n",
      "        [ 72,  71,  69]],\n",
      "\n",
      "       [[132, 114, 126],\n",
      "        [145, 127, 139],\n",
      "        [146, 128, 140],\n",
      "        ...,\n",
      "        [ 67,  65,  63],\n",
      "        [ 63,  57,  56],\n",
      "        [ 48,  48,  45]],\n",
      "\n",
      "       [[137, 119, 131],\n",
      "        [141, 123, 135],\n",
      "        [142, 124, 136],\n",
      "        ...,\n",
      "        [ 77,  75,  74],\n",
      "        [ 87,  82,  81],\n",
      "        [ 58,  58,  56]]], dtype=uint8)\n",
      " '19de1db12b3ddc7f2af6d9453c977083' '1']\n"
     ]
    }
   ],
   "source": [
    "print(d[10])   ## check sample "
   ]
  }
 ],
 "metadata": {
  "kernelspec": {
   "display_name": "Python 3",
   "language": "python",
   "name": "python3"
  },
  "language_info": {
   "codemirror_mode": {
    "name": "ipython",
    "version": 3
   },
   "file_extension": ".py",
   "mimetype": "text/x-python",
   "name": "python",
   "nbconvert_exporter": "python",
   "pygments_lexer": "ipython3",
   "version": "3.7.3"
  }
 },
 "nbformat": 4,
 "nbformat_minor": 2
}
