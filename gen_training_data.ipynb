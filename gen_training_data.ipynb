{
 "cells": [
  {
   "cell_type": "code",
   "execution_count": 21,
   "metadata": {},
   "outputs": [],
   "source": [
    "import numpy as np\n",
    "from PIL import Image\n",
    "\n",
    "import torch\n",
    "import torchvision\n",
    "import torch.nn as nn\n",
    "                                                  #  '''  do not forget =    it's (HEIGHT, WIDTH)    ''' \n",
    "import torch.nn.functional as F\n",
    "import torch.optim as optim\n",
    "torch.set_printoptions(linewidth = 120)\n",
    "torch.set_grad_enabled(True)\n",
    "import torchvision\n",
    "import torchvision.transforms as transforms\n",
    "\n",
    "import matplotlib.pyplot as plt\n",
    "\n",
    "import numpy as np\n",
    "from torchvision.transforms import ToTensor\n",
    "   \n",
    "np.set_printoptions(threshold=50)    # 50 lines \n",
    "\n",
    "\n",
    "from PIL import Image "
   ]
  },
  {
   "cell_type": "code",
   "execution_count": null,
   "metadata": {},
   "outputs": [],
   "source": [
    "#########################################################################################"
   ]
  },
  {
   "cell_type": "code",
   "execution_count": 22,
   "metadata": {},
   "outputs": [],
   "source": [
    "## 390 x 440 is a good shape then, but will use one fourth of that because my RAM runs out instead\n",
    "\n",
    "\n",
    "def standardise_data_checkpoints_lite(vectored_arr, folder_name, width, height):\n",
    "        \n",
    "    print (\"init\")\n",
    "    foo = np.array(np.load(vectored_arr))    \n",
    "    \n",
    "    print(\"running\")\n",
    "    \n",
    "    def checkpoint(start, end):\n",
    "        \n",
    "        standardised_arr = []\n",
    "        for i in range(start, end):  \n",
    "       \n",
    "            int_el = int(foo[i][2]) - 1\n",
    "\n",
    "            stack_element = [ foo[i][0], int_el  ]   # stack this   [ image_arr,   file_name,   label_element ]\n",
    "\n",
    "            standardised_arr.append(stack_element)\n",
    "            \n",
    "        fmt_name = \"numpy/\" +\"cross_ent_\"+ str(width) + \"_\" + str(height) + \"__\" + str(int(start)) + \"_\" + str(int(end)) +\".npy\"\n",
    "\n",
    "        print(\"saving\", fmt_name)\n",
    "\n",
    "        luigi = np.asarray(standardised_arr)\n",
    "\n",
    "        np.save(fmt_name, luigi)\n",
    "\n",
    "        print(\"saved --- \")\n",
    "            \n",
    "    \n",
    "    \n",
    "    \n",
    "    checkpoint(0, 10221)\n",
    "    \n",
    "    print(\"s1 done---\")\n",
    "    \n",
    "\n",
    "    print(\"complete ---\")\n",
    "    \n",
    "   "
   ]
  },
  {
   "cell_type": "code",
   "execution_count": 23,
   "metadata": {},
   "outputs": [
    {
     "name": "stdout",
     "output_type": "stream",
     "text": [
      "init\n",
      "running\n",
      "saving numpy/cross_ent_195_220__0_10221.npy\n",
      "saved --- \n",
      "s1 done---\n",
      "complete ---\n"
     ]
    }
   ],
   "source": [
    "standardise_data_checkpoints_lite(\"numpy/labels_vectored.npy\", \"train\", 195, 220)   "
   ]
  },
  {
   "cell_type": "code",
   "execution_count": 17,
   "metadata": {},
   "outputs": [
    {
     "name": "stdout",
     "output_type": "stream",
     "text": [
      "[['01268f0007876a692907bda89468184c' '1']\n",
      " ['0162107acd8f2588c0944b791d61bb0c' '1']\n",
      " ['040fef64640b89c53f161b6c5215b78b' '1']\n",
      " ...\n",
      " ['f28c40401e84e41f5aa4c60fea02a575' '120']\n",
      " ['f7627680c56c5d3acc4f7eae93124459' '120']\n",
      " ['fb1cdd8ff249b6ee7c2af2e89ff644d4' '120']]\n",
      "<class 'numpy.str_'>\n"
     ]
    }
   ],
   "source": [
    "doo = np.array(np.load(\"numpy/cross_ent_195_220__0_10221.npy\"))\n",
    "\n",
    "print(doo)\n",
    "\n"
   ]
  }
 ],
 "metadata": {
  "kernelspec": {
   "display_name": "Python 3",
   "language": "python",
   "name": "python3"
  },
  "language_info": {
   "codemirror_mode": {
    "name": "ipython",
    "version": 3
   },
   "file_extension": ".py",
   "mimetype": "text/x-python",
   "name": "python",
   "nbconvert_exporter": "python",
   "pygments_lexer": "ipython3",
   "version": "3.7.3"
  }
 },
 "nbformat": 4,
 "nbformat_minor": 2
}
